{
 "cells": [
  {
   "cell_type": "code",
   "execution_count": 28,
   "metadata": {},
   "outputs": [],
   "source": [
    "import pandas as pd"
   ]
  },
  {
   "cell_type": "code",
   "execution_count": null,
   "metadata": {},
   "outputs": [],
   "source": []
  },
  {
   "cell_type": "code",
   "execution_count": 29,
   "metadata": {},
   "outputs": [
    {
     "data": {
      "text/html": [
       "<div>\n",
       "<style scoped>\n",
       "    .dataframe tbody tr th:only-of-type {\n",
       "        vertical-align: middle;\n",
       "    }\n",
       "\n",
       "    .dataframe tbody tr th {\n",
       "        vertical-align: top;\n",
       "    }\n",
       "\n",
       "    .dataframe thead th {\n",
       "        text-align: right;\n",
       "    }\n",
       "</style>\n",
       "<table border=\"1\" class=\"dataframe\">\n",
       "  <thead>\n",
       "    <tr style=\"text-align: right;\">\n",
       "      <th></th>\n",
       "      <th>channel_username</th>\n",
       "      <th>playlist_id</th>\n",
       "      <th>title</th>\n",
       "      <th>publishedAt</th>\n",
       "      <th>transcript</th>\n",
       "    </tr>\n",
       "  </thead>\n",
       "  <tbody>\n",
       "    <tr>\n",
       "      <th>0</th>\n",
       "      <td>FredCaldeira</td>\n",
       "      <td>UUMLMnpzB7f06mq0Kx3oFzew</td>\n",
       "      <td>Como é cobrir a Seleção em Londres?</td>\n",
       "      <td>2024-03-20T20:04:43Z</td>\n",
       "      <td>[{'text': 'gente trazendo esse vídeo aqui pro ...</td>\n",
       "    </tr>\n",
       "    <tr>\n",
       "      <th>1</th>\n",
       "      <td>FredCaldeira</td>\n",
       "      <td>UUMLMnpzB7f06mq0Kx3oFzew</td>\n",
       "      <td>Um sonho para o Teatro</td>\n",
       "      <td>2024-03-17T21:12:29Z</td>\n",
       "      <td>[{'text': 'gente', 'start': 0.12, 'duration': ...</td>\n",
       "    </tr>\n",
       "    <tr>\n",
       "      <th>2</th>\n",
       "      <td>FredCaldeira</td>\n",
       "      <td>UUMLMnpzB7f06mq0Kx3oFzew</td>\n",
       "      <td>Inglaterra convocada para contra o Brasil</td>\n",
       "      <td>2024-03-16T21:45:13Z</td>\n",
       "      <td>[{'text': 'Vamos lá gente eu tô atrasado para'...</td>\n",
       "    </tr>\n",
       "    <tr>\n",
       "      <th>3</th>\n",
       "      <td>MarceloBechler1</td>\n",
       "      <td>UUr3S50A3UmXeBsHBTHCW-Ow</td>\n",
       "      <td>Seleção pressionada? Baba ovo do Messi e Pep? ...</td>\n",
       "      <td>2024-03-22T23:25:37Z</td>\n",
       "      <td>[{'text': 'meus queridos beloveds e também min...</td>\n",
       "    </tr>\n",
       "    <tr>\n",
       "      <th>4</th>\n",
       "      <td>MarceloBechler1</td>\n",
       "      <td>UUr3S50A3UmXeBsHBTHCW-Ow</td>\n",
       "      <td>Invencíveis e insaciáveis</td>\n",
       "      <td>2024-03-20T23:45:36Z</td>\n",
       "      <td>[{'text': 'muito boa noite meus esquimo e tamb...</td>\n",
       "    </tr>\n",
       "    <tr>\n",
       "      <th>5</th>\n",
       "      <td>MarceloBechler1</td>\n",
       "      <td>UUr3S50A3UmXeBsHBTHCW-Ow</td>\n",
       "      <td>O melhor jogo de novo! Algo está acontecendo e...</td>\n",
       "      <td>2024-03-17T23:41:47Z</td>\n",
       "      <td>[{'text': 'se você veio aqui achando que eu ia...</td>\n",
       "    </tr>\n",
       "    <tr>\n",
       "      <th>6</th>\n",
       "      <td>MarceloBechler1</td>\n",
       "      <td>UUr3S50A3UmXeBsHBTHCW-Ow</td>\n",
       "      <td>Técnicos Cruyffistas em alta? Insultos ao Vini...</td>\n",
       "      <td>2024-03-17T12:19:50Z</td>\n",
       "      <td>[{'text': 'muito bom dia meus domingueiro zinh...</td>\n",
       "    </tr>\n",
       "  </tbody>\n",
       "</table>\n",
       "</div>"
      ],
      "text/plain": [
       "  channel_username               playlist_id  \\\n",
       "0     FredCaldeira  UUMLMnpzB7f06mq0Kx3oFzew   \n",
       "1     FredCaldeira  UUMLMnpzB7f06mq0Kx3oFzew   \n",
       "2     FredCaldeira  UUMLMnpzB7f06mq0Kx3oFzew   \n",
       "3  MarceloBechler1  UUr3S50A3UmXeBsHBTHCW-Ow   \n",
       "4  MarceloBechler1  UUr3S50A3UmXeBsHBTHCW-Ow   \n",
       "5  MarceloBechler1  UUr3S50A3UmXeBsHBTHCW-Ow   \n",
       "6  MarceloBechler1  UUr3S50A3UmXeBsHBTHCW-Ow   \n",
       "\n",
       "                                               title           publishedAt  \\\n",
       "0                Como é cobrir a Seleção em Londres?  2024-03-20T20:04:43Z   \n",
       "1                             Um sonho para o Teatro  2024-03-17T21:12:29Z   \n",
       "2          Inglaterra convocada para contra o Brasil  2024-03-16T21:45:13Z   \n",
       "3  Seleção pressionada? Baba ovo do Messi e Pep? ...  2024-03-22T23:25:37Z   \n",
       "4                          Invencíveis e insaciáveis  2024-03-20T23:45:36Z   \n",
       "5  O melhor jogo de novo! Algo está acontecendo e...  2024-03-17T23:41:47Z   \n",
       "6  Técnicos Cruyffistas em alta? Insultos ao Vini...  2024-03-17T12:19:50Z   \n",
       "\n",
       "                                          transcript  \n",
       "0  [{'text': 'gente trazendo esse vídeo aqui pro ...  \n",
       "1  [{'text': 'gente', 'start': 0.12, 'duration': ...  \n",
       "2  [{'text': 'Vamos lá gente eu tô atrasado para'...  \n",
       "3  [{'text': 'meus queridos beloveds e também min...  \n",
       "4  [{'text': 'muito boa noite meus esquimo e tamb...  \n",
       "5  [{'text': 'se você veio aqui achando que eu ia...  \n",
       "6  [{'text': 'muito bom dia meus domingueiro zinh...  "
      ]
     },
     "execution_count": 29,
     "metadata": {},
     "output_type": "execute_result"
    }
   ],
   "source": [
    "df = pd.read_json(\"../database/transcripts.json\")\n",
    "df"
   ]
  },
  {
   "cell_type": "code",
   "execution_count": 30,
   "metadata": {},
   "outputs": [
    {
     "data": {
      "text/plain": [
       "0    Channel: FredCaldeiraTitle: Como é cobrir a Se...\n",
       "1    Channel: FredCaldeiraTitle: Um sonho para o Te...\n",
       "2    Channel: FredCaldeiraTitle: Inglaterra convoca...\n",
       "3    Channel: MarceloBechler1Title: Seleção pressio...\n",
       "4    Channel: MarceloBechler1Title: Invencíveis e i...\n",
       "5    Channel: MarceloBechler1Title: O melhor jogo d...\n",
       "6    Channel: MarceloBechler1Title: Técnicos Cruyff...\n",
       "Name: text, dtype: object"
      ]
     },
     "execution_count": 30,
     "metadata": {},
     "output_type": "execute_result"
    }
   ],
   "source": [
    "df[\"text\"] = \"Channel: \" + df[\"channel_username\"] + \"Title: \" + df[\"title\"]\n",
    "df[\"text\"]"
   ]
  },
  {
   "cell_type": "code",
   "execution_count": 31,
   "metadata": {},
   "outputs": [],
   "source": [
    "def get_text(line):\n",
    "    return \" \".join([json[\"text\"] for json in line])\n",
    "\n",
    "df[\"text\"] += df[\"transcript\"].apply(get_text)"
   ]
  },
  {
   "cell_type": "code",
   "execution_count": 34,
   "metadata": {},
   "outputs": [],
   "source": [
    "# Get the values of the \"text\" column and join them with \"\\n\\n\"\n",
    "text_content = \"\\n\\n\".join(df[\"text\"].values)\n",
    "\n",
    "# Write the text content to a file\n",
    "with open(\"../documents/transcript.txt\", \"w\") as f:\n",
    "    f.write(text_content)"
   ]
  }
 ],
 "metadata": {
  "kernelspec": {
   "display_name": "llm",
   "language": "python",
   "name": "python3"
  },
  "language_info": {
   "codemirror_mode": {
    "name": "ipython",
    "version": 3
   },
   "file_extension": ".py",
   "mimetype": "text/x-python",
   "name": "python",
   "nbconvert_exporter": "python",
   "pygments_lexer": "ipython3",
   "version": "3.12.2"
  }
 },
 "nbformat": 4,
 "nbformat_minor": 2
}
