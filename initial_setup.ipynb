{
 "cells": [
  {
   "cell_type": "code",
   "execution_count": 17,
   "metadata": {},
   "outputs": [],
   "source": [
    "from langchain.llms import Ollama\n",
    "from langchain.callbacks.manager import CallbackManager\n",
    "from langchain.callbacks.streaming_stdout import StreamingStdOutCallbackHandler"
   ]
  },
  {
   "cell_type": "code",
   "execution_count": 18,
   "metadata": {},
   "outputs": [],
   "source": [
    "llma = Ollama(model=\"gemma:2b\",\n",
    "              callback_manager = CallbackManager([StreamingStdOutCallbackHandler]))"
   ]
  },
  {
   "cell_type": "code",
   "execution_count": 19,
   "metadata": {},
   "outputs": [
    {
     "data": {
      "text/plain": [
       "'1. The Greek Empire was one of the largest empires in the ancient world, stretching from the Aegean Sea in the west to the Indian subcontinent in the east.\\n\\n\\n2. The empire was founded by Alexander the Great, who conquered the Persian Empire in 326 BC.\\n\\n\\n3. The Greek Empire reached its peak of power in the 3rd and 4th centuries AD. During this period, the empire encompassed vast territory and had a strong navy.\\n\\n\\n4. The empire was conquered by the Roman Empire in 27 BC.\\n\\n\\n5. The Greek language, religion, and culture spread throughout the empire during its long history.'"
      ]
     },
     "execution_count": 19,
     "metadata": {},
     "output_type": "execute_result"
    }
   ],
   "source": [
    "llma.invoke(\"Tell me 5 facts about the greek empire\")"
   ]
  }
 ],
 "metadata": {
  "kernelspec": {
   "display_name": "llm",
   "language": "python",
   "name": "python3"
  },
  "language_info": {
   "codemirror_mode": {
    "name": "ipython",
    "version": 3
   },
   "file_extension": ".py",
   "mimetype": "text/x-python",
   "name": "python",
   "nbconvert_exporter": "python",
   "pygments_lexer": "ipython3",
   "version": "3.12.2"
  }
 },
 "nbformat": 4,
 "nbformat_minor": 2
}
